{
 "cells": [
  {
   "cell_type": "code",
   "execution_count": 19,
   "metadata": {},
   "outputs": [
    {
     "name": "stdout",
     "output_type": "stream",
     "text": [
      "The autoreload extension is already loaded. To reload it, use:\n",
      "  %reload_ext autoreload\n"
     ]
    }
   ],
   "source": [
    "from sklearn.model_selection import KFold\n",
    "from sklearn.model_selection import StratifiedKFold\n",
    "from yellowbrick.datasets import load_concrete\n",
    "from yellowbrick.regressor import ResidualsPlot\n",
    "from sklearn.linear_model import LinearRegression\n",
    "from sklearn.neural_network import MLPRegressor\n",
    "from collections import OrderedDict\n",
    "from torch import nn\n",
    "from torch import optim\n",
    "from utils import *\n",
    "from sklearn.metrics import mean_squared_error\n",
    "from torch import tensor\n",
    "import copy\n",
    "import torch\n",
    "from tqdm import tqdm\n",
    "\n",
    "%load_ext autoreload\n",
    "\n",
    "%autoreload 2"
   ]
  },
  {
   "cell_type": "code",
   "execution_count": 32,
   "metadata": {},
   "outputs": [
    {
     "name": "stdout",
     "output_type": "stream",
     "text": [
      "carat:0.020450070764268666\n",
      "carat: 0.020450070764268666: boxcox\n",
      "depth: No Change\n",
      "\n",
      "\n",
      "PLEASE WORK 0.5993289324435086\n",
      "x: No Change\n",
      "y: 0.3636482008742052: Sqrt\n",
      "z: 0.0139742634447758: Sqrt\n"
     ]
    },
    {
     "name": "stderr",
     "output_type": "stream",
     "text": [
      "/Users/ineshchakrabarti/opt/miniconda3/envs/diamondProj/lib/python3.10/site-packages/pandas/core/arraylike.py:402: RuntimeWarning: divide by zero encountered in log\n",
      "  result = getattr(ufunc, method)(*inputs, **kwargs)\n"
     ]
    }
   ],
   "source": [
    "X_train, X_test, y_train, y_test = (scaledTrainTestSplit(loadData(quant=True, unSkew=True)))"
   ]
  },
  {
   "cell_type": "code",
   "execution_count": 64,
   "metadata": {},
   "outputs": [],
   "source": [
    "model1 = MLPRegressor(hidden_layer_sizes=[9,100,100,100],\n",
    "                     activation='relu',\n",
    "                     solver='adam',\n",
    "                     alpha=0.1,\n",
    "                     learning_rate_init=0.001,\n",
    "                     batch_size=200,\n",
    "                     learning_rate='invscaling',\n",
    "                     momentum=0.9,\n",
    "                     early_stopping=True,\n",
    "                     validation_fraction=0.1)"
   ]
  },
  {
   "cell_type": "code",
   "execution_count": 6,
   "metadata": {},
   "outputs": [
    {
     "name": "stdout",
     "output_type": "stream",
     "text": [
      "Train RMSE: 569.9912106990598, Test RMSE: 604.7681696548783\n"
     ]
    },
    {
     "data": {
      "text/plain": [
       "[<matplotlib.lines.Line2D at 0x7f8cc1125030>]"
      ]
     },
     "execution_count": 6,
     "metadata": {},
     "output_type": "execute_result"
    },
    {
     "data": {
      "image/png": "[encoded data removed]",
      "text/plain": [
       "<Figure size 800x550 with 1 Axes>"
      ]
     },
     "metadata": {},
     "output_type": "display_data"
    }
   ],
   "source": [
    "model.fit(X_train,y_train)\n",
    "trainPred = model.predict(X_train)\n",
    "testPred = model.predict(X_test)\n",
    "trainrmse = mean_squared_error(trainPred, y_train, squared=False)\n",
    "testrmse = mean_squared_error(testPred, y_test, squared=False)\n",
    "print(f\"Train RMSE: {trainrmse}, Test RMSE: {testrmse}\")\n",
    "plt.plot(model.loss_curve_)\n",
    "model."
   ]
  },
  {
   "cell_type": "code",
   "execution_count": 66,
   "metadata": {},
   "outputs": [
    {
     "name": "stdout",
     "output_type": "stream",
     "text": [
      "carat:0.020450070764268666\n",
      "carat: 0.020450070764268666: boxcox\n",
      "depth: No Change\n",
      "\n",
      "\n",
      "PLEASE WORK 0.5993289324435086\n",
      "x: No Change\n",
      "y: 0.3636482008742052: Sqrt\n",
      "z: 0.0139742634447758: Sqrt\n"
     ]
    },
    {
     "name": "stderr",
     "output_type": "stream",
     "text": [
      "/Users/ineshchakrabarti/opt/miniconda3/envs/diamondProj/lib/python3.10/site-packages/pandas/core/arraylike.py:402: RuntimeWarning: divide by zero encountered in log\n",
      "  result = getattr(ufunc, method)(*inputs, **kwargs)\n"
     ]
    }
   ],
   "source": [
    "X_train, X_test, y_train, y_test = (scaledTrainTestSplit(loadData(quant=True, unSkew=True)))\n",
    "X_train = torch.FloatTensor(X_train.to_numpy())\n",
    "y_train = torch.FloatTensor(y_train.to_numpy())\n",
    "X_test = torch.FloatTensor(X_test.to_numpy())\n",
    "y_test = torch.FloatTensor(y_test.to_numpy())"
   ]
  },
  {
   "cell_type": "code",
   "execution_count": 68,
   "metadata": {},
   "outputs": [],
   "source": [
    "model = nn.Sequential(OrderedDict([\n",
    "    ('dense1', nn.Linear(9, 100)),\n",
    "    ('act1', nn.ReLU()),\n",
    "    # ('drop1',nn.Dropout(0.1)),\n",
    "    ('dense2', nn.Linear(100, 100)),\n",
    "    ('act2', nn.ReLU()),\n",
    "    ('dense3', nn.Linear(100, 100)),\n",
    "    ('drop2',nn.Dropout(0.1)),\n",
    "    ('act3', nn.ReLU()),\n",
    "    ('output', nn.Linear(100, 1)),\n",
    "]))\n",
    "optimizer = torch.optim.Adam(model.parameters(), lr=0.001)\n",
    "loss_fn = nn.MSELoss()"
   ]
  },
  {
   "cell_type": "code",
   "execution_count": 72,
   "metadata": {},
   "outputs": [
    {
     "name": "stderr",
     "output_type": "stream",
     "text": [
      "Epoch 0:   0%|          | 0/243 [00:00<?, ?batch/s]/Users/ineshchakrabarti/opt/miniconda3/envs/diamondProj/lib/python3.10/site-packages/torch/nn/modules/loss.py:536: UserWarning: Using a target size (torch.Size([200])) that is different to the input size (torch.Size([200, 1])). This will likely lead to incorrect results due to broadcasting. Please ensure they have the same size.\n",
      "  return F.mse_loss(input, target, reduction=self.reduction)\n",
      "Epoch 0: 100%|█████████▉| 242/243 [00:01<00:00, 133.31batch/s, mse=1.79e+7]/Users/ineshchakrabarti/opt/miniconda3/envs/diamondProj/lib/python3.10/site-packages/torch/nn/modules/loss.py:536: UserWarning: Using a target size (torch.Size([146])) that is different to the input size (torch.Size([146, 1])). This will likely lead to incorrect results due to broadcasting. Please ensure they have the same size.\n",
      "  return F.mse_loss(input, target, reduction=self.reduction)\n",
      "Epoch 0: 100%|██████████| 243/243 [00:01<00:00, 141.40batch/s, mse=1.46e+7]\n",
      "/Users/ineshchakrabarti/opt/miniconda3/envs/diamondProj/lib/python3.10/site-packages/torch/nn/modules/loss.py:536: UserWarning: Using a target size (torch.Size([5394])) that is different to the input size (torch.Size([5394, 1])). This will likely lead to incorrect results due to broadcasting. Please ensure they have the same size.\n",
      "  return F.mse_loss(input, target, reduction=self.reduction)\n",
      "Epoch 1: 100%|██████████| 243/243 [00:03<00:00, 80.40batch/s, mse=1.5e+7]  \n",
      "Epoch 2: 100%|██████████| 243/243 [00:04<00:00, 59.80batch/s, mse=1.51e+7] \n",
      "Epoch 3: 100%|██████████| 243/243 [00:02<00:00, 81.62batch/s, mse=1.46e+7] \n",
      "Epoch 4: 100%|██████████| 243/243 [00:03<00:00, 67.81batch/s, mse=1.46e+7] \n",
      "Epoch 5: 100%|██████████| 243/243 [00:01<00:00, 123.23batch/s, mse=1.46e+7]\n",
      "Epoch 6: 100%|██████████| 243/243 [00:02<00:00, 112.22batch/s, mse=1.47e+7]\n",
      "Epoch 7: 100%|██████████| 243/243 [00:02<00:00, 120.18batch/s, mse=1.47e+7]\n",
      "Epoch 8: 100%|██████████| 243/243 [00:02<00:00, 96.73batch/s, mse=1.47e+7] \n",
      "Epoch 9: 100%|██████████| 243/243 [00:02<00:00, 93.90batch/s, mse=1.47e+7] \n",
      "Epoch 10: 100%|██████████| 243/243 [00:02<00:00, 116.98batch/s, mse=1.47e+7]\n",
      "Epoch 11: 100%|██████████| 243/243 [00:02<00:00, 116.61batch/s, mse=1.47e+7]\n",
      "Epoch 12: 100%|██████████| 243/243 [00:01<00:00, 123.13batch/s, mse=1.47e+7]\n",
      "Epoch 13: 100%|██████████| 243/243 [00:02<00:00, 113.34batch/s, mse=1.47e+7]\n",
      "Epoch 14: 100%|██████████| 243/243 [00:02<00:00, 108.39batch/s, mse=1.47e+7]\n",
      "Epoch 15: 100%|██████████| 243/243 [00:02<00:00, 113.36batch/s, mse=1.47e+7]\n",
      "Epoch 16: 100%|██████████| 243/243 [00:02<00:00, 104.17batch/s, mse=1.48e+7]\n",
      "Epoch 17: 100%|██████████| 243/243 [00:02<00:00, 111.99batch/s, mse=1.48e+7]\n",
      "Epoch 18: 100%|██████████| 243/243 [00:02<00:00, 115.47batch/s, mse=1.48e+7]\n",
      "Epoch 19: 100%|██████████| 243/243 [00:02<00:00, 108.48batch/s, mse=1.48e+7]\n",
      "Epoch 20: 100%|██████████| 243/243 [00:02<00:00, 111.14batch/s, mse=1.48e+7]\n",
      "Epoch 21: 100%|██████████| 243/243 [00:02<00:00, 107.80batch/s, mse=1.48e+7]\n",
      "Epoch 22: 100%|██████████| 243/243 [00:03<00:00, 73.43batch/s, mse=1.46e+7] \n",
      "Epoch 23: 100%|██████████| 243/243 [00:02<00:00, 100.61batch/s, mse=1.48e+7]\n",
      "Epoch 24: 100%|██████████| 243/243 [00:02<00:00, 105.65batch/s, mse=1.48e+7]\n",
      "Epoch 25: 100%|██████████| 243/243 [00:02<00:00, 102.29batch/s, mse=1.47e+7]\n",
      "Epoch 26: 100%|██████████| 243/243 [00:03<00:00, 77.16batch/s, mse=1.47e+7] \n",
      "Epoch 27: 100%|██████████| 243/243 [00:01<00:00, 153.17batch/s, mse=1.47e+7]\n",
      "Epoch 28: 100%|██████████| 243/243 [00:01<00:00, 155.47batch/s, mse=1.47e+7]\n",
      "Epoch 29: 100%|██████████| 243/243 [00:02<00:00, 111.55batch/s, mse=1.47e+7]\n",
      "Epoch 30: 100%|██████████| 243/243 [00:03<00:00, 66.52batch/s, mse=1.46e+7] \n",
      "Epoch 31: 100%|██████████| 243/243 [00:03<00:00, 65.62batch/s, mse=1.46e+7] \n",
      "Epoch 32: 100%|██████████| 243/243 [00:02<00:00, 95.18batch/s, mse=1.46e+7] \n",
      "Epoch 33: 100%|██████████| 243/243 [00:04<00:00, 55.88batch/s, mse=1.47e+7] \n",
      "Epoch 34: 100%|██████████| 243/243 [00:02<00:00, 116.82batch/s, mse=1.47e+7]\n",
      "Epoch 35: 100%|██████████| 243/243 [00:01<00:00, 135.72batch/s, mse=1.46e+7]\n",
      "Epoch 36: 100%|██████████| 243/243 [00:01<00:00, 131.90batch/s, mse=1.46e+7]\n",
      "Epoch 37: 100%|██████████| 243/243 [00:01<00:00, 142.20batch/s, mse=1.46e+7]\n",
      "Epoch 38: 100%|██████████| 243/243 [00:01<00:00, 140.00batch/s, mse=1.46e+7]\n",
      "Epoch 39: 100%|██████████| 243/243 [00:02<00:00, 119.11batch/s, mse=1.46e+7]\n"
     ]
    },
    {
     "name": "stdout",
     "output_type": "stream",
     "text": [
      "MSE: 16639192.00\n",
      "RMSE: 4079.12\n"
     ]
    },
    {
     "data": {
      "image/png": "[encoded data removed]",
      "text/plain": [
       "<Figure size 800x550 with 1 Axes>"
      ]
     },
     "metadata": {},
     "output_type": "display_data"
    }
   ],
   "source": [
    "model = nn.Sequential(\n",
    "    nn.Linear(9, 100),\n",
    "    nn.ReLU(),\n",
    "    nn.Linear(100, 200),\n",
    "    nn.ReLU(),\n",
    "    nn.Linear(200, 100),\n",
    "    nn.ReLU(),\n",
    "    nn.Linear(100, 1)\n",
    ")\n",
    " \n",
    "# loss function and optimizer\n",
    "loss_fn = nn.MSELoss()  # mean square error\n",
    "optimizer = optim.Adam(model.parameters(), lr=0.1)\n",
    "# optimizer = optim.NMS(model.parameters(), lr=0.1, momentum=0.9)\n",
    " \n",
    "n_epochs = 40   # number of epochs to run\n",
    "batch_size = 200  # size of each batch\n",
    "batch_start = torch.arange(0, len(X_train), batch_size)\n",
    " \n",
    "# Hold the best model\n",
    "best_mse = np.inf   # init to infinity\n",
    "best_weights = None\n",
    "history = []\n",
    " \n",
    "for epoch in range(n_epochs):\n",
    "    model.train()\n",
    "    with tqdm(batch_start, unit=\"batch\", mininterval=0, disable=False) as bar:\n",
    "        bar.set_description(f\"Epoch {epoch}\")\n",
    "        for start in bar:\n",
    "            # take a batch\n",
    "            X_batch = X_train[start:start+batch_size]\n",
    "            y_batch = y_train[start:start+batch_size]\n",
    "            # forward pass\n",
    "            y_pred = model(X_batch)\n",
    "            loss = loss_fn(y_pred, y_batch)\n",
    "            # backward pass\n",
    "            optimizer.zero_grad()\n",
    "            loss.backward()\n",
    "            # update weights\n",
    "            optimizer.step()\n",
    "            # print progress\n",
    "            bar.set_postfix(mse=float(loss))\n",
    "    # evaluate accuracy at end of each epoch\n",
    "    model.eval()\n",
    "    y_pred = model(X_test)\n",
    "    mse = loss_fn(y_pred, y_test)\n",
    "    mse = float(mse)\n",
    "    history.append(mse)\n",
    "    if mse < best_mse:\n",
    "        best_mse = mse\n",
    "        best_weights = copy.deepcopy(model.state_dict())\n",
    " \n",
    "# restore model and return best accuracy\n",
    "model.load_state_dict(best_weights)\n",
    "print(\"MSE: %.2f\" % best_mse)\n",
    "print(\"RMSE: %.2f\" % np.sqrt(best_mse))\n",
    "plt.plot(history)\n",
    "plt.show()"
   ]
  }
 ],
 "metadata": {
  "kernelspec": {
   "display_name": "diamondProj",
   "language": "python",
   "name": "python3"
  },
  "language_info": {
   "codemirror_mode": {
    "name": "ipython",
    "version": 3
   },
   "file_extension": ".py",
   "mimetype": "text/x-python",
   "name": "python",
   "nbconvert_exporter": "python",
   "pygments_lexer": "ipython3",
   "version": "3.10.9"
  },
  "orig_nbformat": 4
 },
 "nbformat": 4,
 "nbformat_minor": 2
}
